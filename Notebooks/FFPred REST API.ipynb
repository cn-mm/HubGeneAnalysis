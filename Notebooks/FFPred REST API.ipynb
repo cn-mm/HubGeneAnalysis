{
 "cells": [
  {
   "cell_type": "code",
   "execution_count": 1,
   "id": "innovative-convertible",
   "metadata": {},
   "outputs": [],
   "source": [
    "import os\n",
    "import requests\n",
    "import json\n",
    "import regex\n",
    "import openpyxl"
   ]
  },
  {
   "cell_type": "code",
   "execution_count": 2,
   "id": "planned-layer",
   "metadata": {},
   "outputs": [],
   "source": [
    "wb = openpyxl.load_workbook('comp.xlsx')\n",
    "sheet = wb['All Genes ']"
   ]
  },
  {
   "cell_type": "code",
   "execution_count": 3,
   "id": "built-train",
   "metadata": {},
   "outputs": [],
   "source": [
    "inp = sheet['I43'].value\n",
    "# check F as well "
   ]
  },
  {
   "cell_type": "code",
   "execution_count": 8,
   "id": "administrative-louis",
   "metadata": {},
   "outputs": [
    {
     "data": {
      "text/plain": [
       "'MPSKSGRVRMPADNRLPVSASLKTSEIWKNSVGYDPYASYEEINKKKEKKDEDINEKAKNLFNLSRLTGITSTTIPGACTVCNHIGHLPYQCRNFISLEKFDINNNMNNNEEDDIKERKNLGLMSSDDEGDSHSDSHSDSHSDSNSDSNSDSNSDSNSNSHSDSNSNSHSDYSYKKKKHSHHHSKYKKKHSHHRSKNKKKHSHHHSKKEKHISNDTHKSDEKHRKYISSKKKKIKKEEKKKKKNYHSKKMKNKYITYSNSSD'"
      ]
     },
     "execution_count": 8,
     "metadata": {},
     "output_type": "execute_result"
    }
   ],
   "source": [
    "inp = inp.strip()\n",
    "# print(inp)\n",
    "inp = \"\".join(inp.split('\\n')[1:])\n",
    "inp"
   ]
  },
  {
   "cell_type": "code",
   "execution_count": 9,
   "id": "reported-designer",
   "metadata": {},
   "outputs": [],
   "source": [
    "url = 'http://bioinf.cs.ucl.ac.uk/psipred/api/submission.json'\n",
    "def start_job(input_file, sub_name):    \n",
    "    payload = {'input_data': input_file}\n",
    "    data = {'job': 'ffpred',\n",
    "            'submission_name': sub_name,\n",
    "            'email': 'f20170991@pilani.bits-pilani.ac.in',\n",
    "           'ffpred_selection': 'human'}\n",
    "    r = requests.post(url, data=data, files=payload)\n",
    "    print(r.text)\n",
    "\n",
    "#NOTE: Once posted you will need to use the GET submission endpoint\n",
    "#to retrieve your results. Polling the server about once every 2 or 5 mins\n",
    "#should be sufficient.\n",
    "#\n",
    "# Full details at http://bioinf.cs.ucl.ac.uk/web_servers/web_services/"
   ]
  },
  {
   "cell_type": "code",
   "execution_count": null,
   "id": "ambient-humor",
   "metadata": {},
   "outputs": [],
   "source": [
    "i = 44\n",
    "while(sheet['B'+str(i)].value):\n",
    "    if sheet['F'+str(i)].value == 1:\n",
    "        inp = sheet['I'+str(i)].value\n",
    "        inp = inp.strip()\n",
    "        inp = \"\".join(inp.split('\\n')[1:])\n",
    "        job_name = sheet['B'+str(i)].value\n",
    "        start_job(inp,job_name)\n",
    "    i+=1  "
   ]
  },
  {
   "cell_type": "code",
   "execution_count": 28,
   "id": "relevant-amsterdam",
   "metadata": {},
   "outputs": [
    {
     "name": "stdout",
     "output_type": "stream",
     "text": [
      "{\"UUID\":\"885b6114-93a3-11eb-8691-00163e100d53\",\"submission_name\":\"PF3D7_0319800 FFPred\"}\n"
     ]
    }
   ],
   "source": [
    "print(r.text) # type str, use regex to extract the UUID \n",
    "r1 = r.text.split(',')[0]\n",
    "r2 = r1.split(':')[-1]\n",
    "UUID = r2[1:-1]\n",
    "# print(r.text.split(','))\n",
    "# print(r.text[9:])"
   ]
  },
  {
   "cell_type": "code",
   "execution_count": 29,
   "id": "lonely-ranch",
   "metadata": {},
   "outputs": [],
   "source": [
    "job_progress_url = \"http://bioinf.cs.ucl.ac.uk/psipred_new/api/submission/[\" + UUID + \"]\""
   ]
  },
  {
   "cell_type": "code",
   "execution_count": 30,
   "id": "abstract-demonstration",
   "metadata": {},
   "outputs": [],
   "source": [
    "jp = requests.get(job_progress_url)"
   ]
  },
  {
   "cell_type": "code",
   "execution_count": null,
   "id": "satisfied-beast",
   "metadata": {},
   "outputs": [],
   "source": []
  }
 ],
 "metadata": {
  "kernelspec": {
   "display_name": "Python [conda env:datasc] *",
   "language": "python",
   "name": "conda-env-datasc-py"
  },
  "language_info": {
   "codemirror_mode": {
    "name": "ipython",
    "version": 3
   },
   "file_extension": ".py",
   "mimetype": "text/x-python",
   "name": "python",
   "nbconvert_exporter": "python",
   "pygments_lexer": "ipython3",
   "version": "3.8.5"
  }
 },
 "nbformat": 4,
 "nbformat_minor": 5
}
