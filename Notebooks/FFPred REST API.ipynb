{
 "cells": [
  {
   "cell_type": "code",
   "execution_count": 1,
   "id": "innovative-convertible",
   "metadata": {},
   "outputs": [],
   "source": [
    "import os\n",
    "import requests\n",
    "import json\n",
    "import regex\n",
    "import openpyxl"
   ]
  },
  {
   "cell_type": "code",
   "execution_count": 2,
   "id": "planned-layer",
   "metadata": {},
   "outputs": [],
   "source": [
    "wb = openpyxl.load_workbook('comp.xlsx')\n",
    "sheet = wb['All Genes ']"
   ]
  },
  {
   "cell_type": "code",
   "execution_count": 3,
   "id": "built-train",
   "metadata": {},
   "outputs": [],
   "source": [
    "inp = sheet['I43'].value\n",
    "# check F as well "
   ]
  },
  {
   "cell_type": "code",
   "execution_count": 8,
   "id": "administrative-louis",
   "metadata": {},
   "outputs": [
    {
     "data": {
      "text/plain": [
       "'MPSKSGRVRMPADNRLPVSASLKTSEIWKNSVGYDPYASYEEINKKKEKKDEDINEKAKNLFNLSRLTGITSTTIPGACTVCNHIGHLPYQCRNFISLEKFDINNNMNNNEEDDIKERKNLGLMSSDDEGDSHSDSHSDSHSDSNSDSNSDSNSDSNSNSHSDSNSNSHSDYSYKKKKHSHHHSKYKKKHSHHRSKNKKKHSHHHSKKEKHISNDTHKSDEKHRKYISSKKKKIKKEEKKKKKNYHSKKMKNKYITYSNSSD'"
      ]
     },
     "execution_count": 8,
     "metadata": {},
     "output_type": "execute_result"
    }
   ],
   "source": [
    "inp = inp.strip()\n",
    "# print(inp)\n",
    "inp = \"\".join(inp.split('\\n')[1:])\n",
    "inp"
   ]
  },
  {
   "cell_type": "code",
   "execution_count": 9,
   "id": "reported-designer",
   "metadata": {},
   "outputs": [],
   "source": [
    "url = 'http://bioinf.cs.ucl.ac.uk/psipred/api/submission.json'\n",
    "def start_job(input_file, sub_name):    \n",
    "    payload = {'input_data': input_file}\n",
    "    data = {'job': 'ffpred',\n",
    "            'submission_name': sub_name,\n",
    "            'email': 'f20170991@pilani.bits-pilani.ac.in',\n",
    "           'ffpred_selection': 'human'}\n",
    "    r = requests.post(url, data=data, files=payload)\n",
    "    print(r.text)\n",
    "\n",
    "#NOTE: Once posted you will need to use the GET submission endpoint\n",
    "#to retrieve your results. Polling the server about once every 2 or 5 mins\n",
    "#should be sufficient.\n",
    "#\n",
    "# Full details at http://bioinf.cs.ucl.ac.uk/web_servers/web_services/"
   ]
  },
  {
   "cell_type": "code",
   "execution_count": 10,
   "id": "ambient-humor",
   "metadata": {},
   "outputs": [
    {
     "name": "stdout",
     "output_type": "stream",
     "text": [
      "{\"UUID\":\"88cc9fd2-96c8-11eb-a455-00163e100d53\",\"submission_name\":\"PF08_0043\"}\n",
      "{\"UUID\":\"89809ef6-96c8-11eb-bc66-00163e100d53\",\"submission_name\":\"PF07_0090\"}\n",
      "{\"UUID\":\"8a0f9318-96c8-11eb-88cc-00163e100d53\",\"submission_name\":\"PF14_0071\"}\n",
      "{\"UUID\":\"8a9badd0-96c8-11eb-bc66-00163e100d53\",\"submission_name\":\"PF14_0239\"}\n",
      "{\"UUID\":\"8b25f684-96c8-11eb-8035-00163e100d53\",\"submission_name\":\"PFD0300w\"}\n",
      "{\"UUID\":\"8badc55a-96c8-11eb-8691-00163e100d53\",\"submission_name\":\"PFB0194w\"}\n",
      "{\"UUID\":\"8c37b972-96c8-11eb-8035-00163e100d53\",\"submission_name\":\"PF11_0285\"}\n",
      "{\"UUID\":\"8cc5d5b8-96c8-11eb-8691-00163e100d53\",\"submission_name\":\"MAL13P1.345\"}\n",
      "{\"UUID\":\"8d57a704-96c8-11eb-88cc-00163e100d53\",\"submission_name\":\"PFF0805c\"}\n",
      "{\"UUID\":\"8de52f5c-96c8-11eb-bc66-00163e100d53\",\"submission_name\":\"PFI1655c\"}\n",
      "{\"error\":{\"input_data\":[\"Input data could not be validated\"]}}\n"
     ]
    }
   ],
   "source": [
    "i = 44\n",
    "while(sheet['B'+str(i)].value):\n",
    "    if sheet['F'+str(i)].value == 1:\n",
    "        inp = sheet['I'+str(i)].value\n",
    "        inp = inp.strip()\n",
    "        inp = \"\".join(inp.split('\\n')[1:])\n",
    "        job_name = sheet['B'+str(i)].value\n",
    "        start_job(inp,job_name)\n",
    "    i+=1  "
   ]
  },
  {
   "cell_type": "code",
   "execution_count": 28,
   "id": "relevant-amsterdam",
   "metadata": {},
   "outputs": [
    {
     "name": "stdout",
     "output_type": "stream",
     "text": [
      "{\"UUID\":\"885b6114-93a3-11eb-8691-00163e100d53\",\"submission_name\":\"PF3D7_0319800 FFPred\"}\n"
     ]
    }
   ],
   "source": [
    "print(r.text) # type str, use regex to extract the UUID \n",
    "r1 = r.text.split(',')[0]\n",
    "r2 = r1.split(':')[-1]\n",
    "UUID = r2[1:-1]\n",
    "# print(r.text.split(','))\n",
    "# print(r.text[9:])"
   ]
  },
  {
   "cell_type": "code",
   "execution_count": 29,
   "id": "lonely-ranch",
   "metadata": {},
   "outputs": [],
   "source": [
    "job_progress_url = \"http://bioinf.cs.ucl.ac.uk/psipred_new/api/submission/[\" + UUID + \"]\""
   ]
  },
  {
   "cell_type": "code",
   "execution_count": 30,
   "id": "abstract-demonstration",
   "metadata": {},
   "outputs": [],
   "source": [
    "jp = requests.get(job_progress_url)"
   ]
  },
  {
   "cell_type": "code",
   "execution_count": null,
   "id": "satisfied-beast",
   "metadata": {},
   "outputs": [],
   "source": []
  }
 ],
 "metadata": {
  "kernelspec": {
   "display_name": "Python [conda env:datasc] *",
   "language": "python",
   "name": "conda-env-datasc-py"
  },
  "language_info": {
   "codemirror_mode": {
    "name": "ipython",
    "version": 3
   },
   "file_extension": ".py",
   "mimetype": "text/x-python",
   "name": "python",
   "nbconvert_exporter": "python",
   "pygments_lexer": "ipython3",
   "version": "3.8.5"
  }
 },
 "nbformat": 4,
 "nbformat_minor": 5
}
