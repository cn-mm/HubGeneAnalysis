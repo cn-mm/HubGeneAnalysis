{
 "cells": [
  {
   "cell_type": "markdown",
   "metadata": {},
   "source": [
    "## Importing Libraries"
   ]
  },
  {
   "cell_type": "code",
   "execution_count": 39,
   "metadata": {},
   "outputs": [],
   "source": [
    "import webbrowser\n",
    "import time \n",
    "import openpyxl\n",
    "import re"
   ]
  },
  {
   "cell_type": "markdown",
   "metadata": {},
   "source": [
    "### Getting the gene data from plasmo db"
   ]
  },
  {
   "cell_type": "markdown",
   "metadata": {},
   "source": [
    "Automatically opened plasmo db with the data, added it manually to the sheet with some help from keyboard controls. <br>\n",
    "#TODO Automate "
   ]
  },
  {
   "cell_type": "code",
   "execution_count": 2,
   "metadata": {},
   "outputs": [
    {
     "data": {
      "text/plain": [
       "True"
      ]
     },
     "execution_count": 2,
     "metadata": {},
     "output_type": "execute_result"
    }
   ],
   "source": [
    "webbrowser.open('https://plasmodb.org/plasmo/app/search?q=PF10_0205', new=2)"
   ]
  },
  {
   "cell_type": "code",
   "execution_count": 7,
   "metadata": {},
   "outputs": [],
   "source": [
    "wb = openpyxl.load_workbook('genes.xlsx')\n",
    "sheet = wb['Sheet1']\n"
   ]
  },
  {
   "cell_type": "code",
   "execution_count": 17,
   "metadata": {},
   "outputs": [
    {
     "name": "stdout",
     "output_type": "stream",
     "text": [
      "30   PF07_0090a\n",
      "31   PFE0425w\n",
      "32   PF08_0043\n",
      "33   PFL0140w\n",
      "34   PF07_0090\n",
      "35   PF14_0071\n",
      "36   PF14_0239\n",
      "37   PFD0300w\n",
      "38   PFL0623c-a\n",
      "39   PFB0194w\n",
      "40   PF11_0285\n",
      "41   MAL13P1.345\n"
     ]
    }
   ],
   "source": [
    "i = 30\n",
    "while(sheet['A'+str(i)].value):\n",
    "    query = sheet['A'+str(i)].value\n",
    "    print(i, \" \", sheet['A'+str(i)].value)\n",
    "    webbrowser.open('https://plasmodb.org/plasmo/app/search?q=' + query, new=2)\n",
    "    i += 1"
   ]
  },
  {
   "cell_type": "markdown",
   "metadata": {},
   "source": [
    "### Getting Protein Sequences"
   ]
  },
  {
   "cell_type": "code",
   "execution_count": 4,
   "metadata": {},
   "outputs": [],
   "source": [
    "wb1 = openpyxl.load_workbook('comp.xlsx')"
   ]
  },
  {
   "cell_type": "code",
   "execution_count": 7,
   "metadata": {},
   "outputs": [],
   "source": [
    "# wb1.sheetnames # get list of sheet names in the workbook\n",
    "sheet1 = wb1['All Genes ']"
   ]
  },
  {
   "cell_type": "code",
   "execution_count": 11,
   "metadata": {},
   "outputs": [
    {
     "data": {
      "text/plain": [
       "'PF3D7_0319800'"
      ]
     },
     "execution_count": 11,
     "metadata": {},
     "output_type": "execute_result"
    }
   ],
   "source": [
    "sheet1['C2'].value"
   ]
  },
  {
   "cell_type": "code",
   "execution_count": 13,
   "metadata": {},
   "outputs": [
    {
     "name": "stdout",
     "output_type": "stream",
     "text": [
      "Collecting selenium"
     ]
    },
    {
     "name": "stderr",
     "output_type": "stream",
     "text": [
      "The system cannot find the path specified.\n"
     ]
    },
    {
     "name": "stdout",
     "output_type": "stream",
     "text": [
      "\n",
      "  Downloading selenium-3.141.0-py2.py3-none-any.whl (904 kB)\n",
      "Collecting urllib3\n",
      "  Downloading urllib3-1.26.3-py2.py3-none-any.whl (137 kB)\n",
      "Installing collected packages: urllib3, selenium\n",
      "Successfully installed selenium-3.141.0 urllib3-1.26.3\n"
     ]
    }
   ],
   "source": [
    "!pip install selenium"
   ]
  },
  {
   "cell_type": "code",
   "execution_count": 24,
   "metadata": {},
   "outputs": [
    {
     "name": "stdout",
     "output_type": "stream",
     "text": [
      "50   PF3D7_0204200 \n",
      "51   PF3D7_1127400 \n",
      "52   PF3D7_1368300\n",
      "53   PF3D7_0616600\n",
      "54   PF3D7_0934200\n",
      "55   PF3D7_1034500\n",
      "56   PF3D7_1234900\n",
      "57   PF3D7_0306500\n",
      "58   PF3D7_1338000\n",
      "59   PF3D7_0931400\n",
      "60   PF3D7_0603600\n"
     ]
    }
   ],
   "source": [
    "i = 50\n",
    "while(sheet1['C'+str(i)].value):\n",
    "    query = sheet1['C'+str(i)].value\n",
    "    print(i, \" \", sheet1['C'+str(i)].value)\n",
    "    webbrowser.open('https://plasmodb.org/plasmo/app/record/gene/download/' + query, new =2)\n",
    "    i += 1\n"
   ]
  },
  {
   "cell_type": "code",
   "execution_count": 34,
   "metadata": {},
   "outputs": [],
   "source": [
    "wb1 = openpyxl.load_workbook('comp1.xlsx')\n",
    "# wb1.sheetnames # get list of sheet names in the workbook\n",
    "sh = wb1['All Genes ']"
   ]
  },
  {
   "cell_type": "code",
   "execution_count": 73,
   "metadata": {},
   "outputs": [
    {
     "name": "stdout",
     "output_type": "stream",
     "text": [
      "477\n",
      "834\n",
      "581\n",
      "5561\n",
      "1843\n",
      "512\n",
      "291\n",
      "228\n",
      "443\n",
      "620\n",
      "1761\n",
      "118\n",
      "1299\n",
      "1253\n",
      "803\n",
      "3322\n",
      "737\n",
      "1844\n",
      "1257\n",
      "2126\n",
      "1544\n",
      "278\n",
      "732\n",
      "450\n",
      "296\n",
      "256\n",
      "386\n",
      "252\n",
      "568\n",
      "462\n",
      "263\n",
      "1179\n",
      "446\n",
      "313\n",
      "134\n",
      "574\n",
      "285\n",
      "78\n",
      "262\n",
      "191\n",
      "96\n",
      "245\n",
      "368\n",
      "194\n",
      "508\n",
      "276\n",
      "159\n",
      "230\n",
      "625\n",
      "145\n",
      "1511\n",
      "151\n",
      "299\n",
      "530\n",
      "310\n"
     ]
    }
   ],
   "source": [
    "# C has gene name G needs no of AA and I has AA sequence \n",
    "i =2\n",
    "while(i<60):\n",
    "    try:\n",
    "        txt = (sh['I'+str(i)].value)\n",
    "        ls = txt.split('\\n')\n",
    "        ele = ls[0]\n",
    "        fin = int(ele.split('=')[-1])\n",
    "        cell = sh['G'+str(i)]\n",
    "        cell.value = fin\n",
    "        print(sh['G'+str(i)].value)\n",
    "    except:\n",
    "        pass\n",
    "    i+=1\n",
    "    \n",
    "    \n",
    "wb1.save(\"C:\\\\Users\\\\Admin\\\\Desktop\\\\Python\\\\comp1.xlsx\")"
   ]
  },
  {
   "cell_type": "code",
   "execution_count": null,
   "metadata": {},
   "outputs": [],
   "source": []
  },
  {
   "cell_type": "code",
   "execution_count": 68,
   "metadata": {},
   "outputs": [
    {
     "data": {
      "text/plain": [
       "581"
      ]
     },
     "execution_count": 68,
     "metadata": {},
     "output_type": "execute_result"
    }
   ],
   "source": [
    "sh['G4'].value"
   ]
  },
  {
   "cell_type": "code",
   "execution_count": 47,
   "metadata": {},
   "outputs": [
    {
     "name": "stdout",
     "output_type": "stream",
     "text": [
      "<re.Match object; span=(99, 105), match='length'> <re.Match object; span=(109, 110), match='\\n'>\n"
     ]
    }
   ],
   "source": [
    "print(x,y)"
   ]
  },
  {
   "cell_type": "code",
   "execution_count": null,
   "metadata": {},
   "outputs": [],
   "source": []
  }
 ],
 "metadata": {
  "kernelspec": {
   "display_name": "Python [conda env:datasc] *",
   "language": "python",
   "name": "conda-env-datasc-py"
  },
  "language_info": {
   "codemirror_mode": {
    "name": "ipython",
    "version": 3
   },
   "file_extension": ".py",
   "mimetype": "text/x-python",
   "name": "python",
   "nbconvert_exporter": "python",
   "pygments_lexer": "ipython3",
   "version": "3.8.5"
  }
 },
 "nbformat": 4,
 "nbformat_minor": 4
}
