{
 "cells": [
  {
   "cell_type": "markdown",
   "metadata": {},
   "source": [
    "## Importing Libraries"
   ]
  },
  {
   "cell_type": "code",
   "execution_count": 1,
   "metadata": {},
   "outputs": [],
   "source": [
    "import webbrowser\n",
    "import time \n",
    "import openpyxl\n",
    "import re"
   ]
  },
  {
   "cell_type": "markdown",
   "metadata": {},
   "source": [
    "### Getting the gene data from plasmo db"
   ]
  },
  {
   "cell_type": "markdown",
   "metadata": {},
   "source": [
    "Automatically opened plasmo db with the data, added it manually to the sheet with some help from keyboard controls. <br>\n",
    "#TODO Automate "
   ]
  },
  {
   "cell_type": "code",
   "execution_count": 2,
   "metadata": {},
   "outputs": [
    {
     "data": {
      "text/plain": [
       "True"
      ]
     },
     "execution_count": 2,
     "metadata": {},
     "output_type": "execute_result"
    }
   ],
   "source": [
    "webbrowser.open('https://plasmodb.org/plasmo/app/search?q=PF10_0205', new=2)"
   ]
  },
  {
   "cell_type": "code",
   "execution_count": 7,
   "metadata": {},
   "outputs": [],
   "source": [
    "'''\n",
    "genes.xls contains the list of all 59 genes for which computational analysis is being done\n",
    "Opening plasmodb searches for all genes \n",
    "'''\n",
    "wb = openpyxl.load_workbook('genes.xlsx')\n",
    "sheet = wb['Sheet1']\n",
    "\n",
    "i = 0\n",
    "while(sheet['A'+str(i)].value):\n",
    "    query = sheet['A'+str(i)].value\n",
    "    print(i, \" \", sheet['A'+str(i)].value)\n",
    "    webbrowser.open('https://plasmodb.org/plasmo/app/search?q=' + query, new=2)\n",
    "    i += 1"
   ]
  },
  {
   "cell_type": "markdown",
   "metadata": {},
   "source": [
    "### Getting Protein Sequences"
   ]
  },
  {
   "cell_type": "code",
   "execution_count": 4,
   "metadata": {},
   "outputs": [],
   "source": [
    "'''\n",
    "comp has all sheets for all modules with All genes having data on every gene \n",
    "TODO: Update the sheet name \n",
    "'''\n",
    "wb1 = openpyxl.load_workbook('comp.xlsx')\n",
    "sheet1 = wb1['All Genes ']"
   ]
  },
  {
   "cell_type": "code",
   "execution_count": 11,
   "metadata": {},
   "outputs": [
    {
     "data": {
      "text/plain": [
       "'PF3D7_0319800'"
      ]
     },
     "execution_count": 11,
     "metadata": {},
     "output_type": "execute_result"
    }
   ],
   "source": [
    "sheet1['C2'].value"
   ]
  },
  {
   "cell_type": "code",
   "execution_count": 24,
   "metadata": {},
   "outputs": [
    {
     "name": "stdout",
     "output_type": "stream",
     "text": [
      "50   PF3D7_0204200 \n",
      "51   PF3D7_1127400 \n",
      "52   PF3D7_1368300\n",
      "53   PF3D7_0616600\n",
      "54   PF3D7_0934200\n",
      "55   PF3D7_1034500\n",
      "56   PF3D7_1234900\n",
      "57   PF3D7_0306500\n",
      "58   PF3D7_1338000\n",
      "59   PF3D7_0931400\n",
      "60   PF3D7_0603600\n"
     ]
    }
   ],
   "source": [
    "'''\n",
    "Helper function to open all tabs based on gene name\n",
    "TODO: Find a way to fully automate the download \n",
    "'''\n",
    "while(sheet1['C'+str(i)].value):\n",
    "    query = sheet1['C'+str(i)].value\n",
    "    print(i, \" \", sheet1['C'+str(i)].value)\n",
    "    webbrowser.open('https://plasmodb.org/plasmo/app/record/gene/download/' + query, new =2)\n",
    "    i += 1\n"
   ]
  },
  {
   "cell_type": "code",
   "execution_count": 2,
   "metadata": {},
   "outputs": [],
   "source": [
    "wb1 = openpyxl.load_workbook('comp1.xlsx')\n",
    "# wb1.sheetnames # get list of sheet names in the workbook\n",
    "sh = wb1['All Genes ']"
   ]
  },
  {
   "cell_type": "code",
   "execution_count": 73,
   "metadata": {},
   "outputs": [
    {
     "name": "stdout",
     "output_type": "stream",
     "text": [
      "477\n",
      "834\n",
      "581\n",
      "5561\n",
      "1843\n",
      "512\n",
      "291\n",
      "228\n",
      "443\n",
      "620\n",
      "1761\n",
      "118\n",
      "1299\n",
      "1253\n",
      "803\n",
      "3322\n",
      "737\n",
      "1844\n",
      "1257\n",
      "2126\n",
      "1544\n",
      "278\n",
      "732\n",
      "450\n",
      "296\n",
      "256\n",
      "386\n",
      "252\n",
      "568\n",
      "462\n",
      "263\n",
      "1179\n",
      "446\n",
      "313\n",
      "134\n",
      "574\n",
      "285\n",
      "78\n",
      "262\n",
      "191\n",
      "96\n",
      "245\n",
      "368\n",
      "194\n",
      "508\n",
      "276\n",
      "159\n",
      "230\n",
      "625\n",
      "145\n",
      "1511\n",
      "151\n",
      "299\n",
      "530\n",
      "310\n"
     ]
    }
   ],
   "source": [
    "'''\n",
    "Calculate the length of amino acids and populate the sheet\n",
    "Sheet info: Column C - gene name; G - no of AA; I - AA sequence \n",
    "'''\n",
    "i =2\n",
    "while(i<60):\n",
    "    try:\n",
    "        txt = (sh['I'+str(i)].value)\n",
    "        ls = txt.split('\\n')\n",
    "        ele = ls[0]\n",
    "        fin = int(ele.split('=')[-1])\n",
    "        cell = sh['G'+str(i)]\n",
    "        cell.value = fin\n",
    "        print(sh['G'+str(i)].value)\n",
    "    except:\n",
    "        pass\n",
    "    i+=1\n",
    "    \n",
    "    \n",
    "wb1.save(\"C:\\\\Users\\\\Admin\\\\Desktop\\\\Python\\\\comp1.xlsx\")"
   ]
  },
  {
   "cell_type": "markdown",
   "metadata": {},
   "source": [
    "Adding all sequences to a txt file "
   ]
  },
  {
   "cell_type": "code",
   "execution_count": 6,
   "metadata": {},
   "outputs": [],
   "source": [
    "'''\n",
    "Creating collective txt file with all sequences in Fasta format \n",
    "'''\n",
    "def save_seq(start, end, sheet, filename):\n",
    "    i = start\n",
    "    blank = \"\\n\"\n",
    "    while(i<=end):\n",
    "    try:\n",
    "        txt = (sheet['I'+str(i)].value)\n",
    "        with open(filename,'a') as file:\n",
    "            file.write(txt)\n",
    "            file.write(blank)\n",
    "    except:\n",
    "        pass\n",
    "    i+=1\n",
    "\n",
    "save_seq(2,60, sh, \"seq.txt\")\n",
    "    \n",
    "# i=2\n",
    "# blank = \"\\n\"\n",
    "# while(i<=60):\n",
    "#     try:\n",
    "#         txt = (sh['I'+str(i)].value)\n",
    "#         with open(\"seq.txt\",'a') as file:\n",
    "#             file.write(txt)\n",
    "#             file.write(blank)\n",
    "#     except:\n",
    "#         pass\n",
    "#     i+=1\n",
    "    "
   ]
  },
  {
   "cell_type": "markdown",
   "metadata": {},
   "source": []
  },
  {
   "cell_type": "code",
   "execution_count": null,
   "metadata": {},
   "outputs": [],
   "source": []
  }
 ],
 "metadata": {
  "kernelspec": {
   "display_name": "Python [conda env:datasc] *",
   "language": "python",
   "name": "conda-env-datasc-py"
  },
  "language_info": {
   "codemirror_mode": {
    "name": "ipython",
    "version": 3
   },
   "file_extension": ".py",
   "mimetype": "text/x-python",
   "name": "python",
   "nbconvert_exporter": "python",
   "pygments_lexer": "ipython3",
   "version": "3.8.5"
  }
 },
 "nbformat": 4,
 "nbformat_minor": 4
}
