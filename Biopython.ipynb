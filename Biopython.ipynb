{
 "cells": [
  {
   "cell_type": "markdown",
   "id": "domestic-destruction",
   "metadata": {},
   "source": [
    "## Open Workbook \n",
    "Will be using this to populate the excel sheet <br>\n",
    "TODO: Define everything in terms of functions "
   ]
  },
  {
   "cell_type": "code",
   "execution_count": 32,
   "id": "medical-qatar",
   "metadata": {},
   "outputs": [],
   "source": [
    "import openpyxl\n",
    "wb = openpyxl.load_workbook('wf.xlsx')\n",
    "sheet = wb['All Genes ']\n"
   ]
  },
  {
   "cell_type": "markdown",
   "id": "generous-utility",
   "metadata": {},
   "source": [
    "For our sheet we need to use columns Q to Y for ProtParam data "
   ]
  },
  {
   "cell_type": "markdown",
   "id": "reasonable-hepatitis",
   "metadata": {},
   "source": [
    "## Biopython\n",
    "Creating sequence objects \n"
   ]
  },
  {
   "cell_type": "code",
   "execution_count": 81,
   "id": "minor-planner",
   "metadata": {},
   "outputs": [],
   "source": [
    "from Bio import SeqIO\n",
    "from Bio.SeqUtils.ProtParam import ProteinAnalysis\n",
    "\n",
    "j = 3 # data rows start from 3 \n",
    "for i, seq_record in enumerate(SeqIO.parse(\"seq.txt\", \"fasta\")):\n",
    "#     print(i, seq_record.id)\n",
    "#     print(repr(seq_record.seq))\n",
    "    my_seq = str(seq_record.seq)\n",
    "    analysed_seq = ProteinAnalysis(my_seq)\n",
    "    mol_wt = analysed_seq.molecular_weight() \n",
    "    pI= analysed_seq.isoelectric_point() \n",
    "    aa_dict = analysed_seq.count_amino_acids()\n",
    "    neg_aa_count = aa_dict['D'] + aa_dict['E'] # (Asp + Glu)\n",
    "    pos_aa_count = aa_dict['R'] + aa_dict['K']# (Arg + Lys)\n",
    "    instability = analysed_seq.instability_index() \n",
    "    aromaticity = analysed_seq.aromaticity()\n",
    "#     flexibility = analysed_seq.flexibility()\n",
    "    gravy = analysed_seq.gravy()\n",
    "    sec_str_frac = analysed_seq.secondary_structure_fraction() # list of the fraction of amino acids which tend to be in helix, turn or sheet\n",
    "\n",
    "    ls = [mol_wt, pI, neg_aa_count, pos_aa_count, instability, aromaticity, gravy, str(sec_str_frac)]\n",
    "    \n",
    "    if(sheet['C'+str(j)].value):\n",
    "        cell_range = sheet['Q'+str(j): 'X' + str(j)]\n",
    "        for cells in cell_range:\n",
    "            for k, elem in enumerate(ls):\n",
    "    #             print(\"break: \", k, elem)\n",
    "                cells[k].value = elem\n",
    "#                 print(cells[k].value )\n",
    "        j+=1\n",
    "    else:\n",
    "        # Missing values present in data set, this is done to accomodate those rows \n",
    "        j+=1\n",
    "        cell_range = sheet['Q'+str(j): 'X' + str(j)]\n",
    "        for cells in cell_range:\n",
    "            for k, elem in enumerate(ls):\n",
    "    #             print(\"break: \", k, elem)\n",
    "                cells[k].value = elem\n",
    "        j+=1\n",
    "#                 print(cells[k].value )\n",
    "\n",
    "\n",
    "# wb.save(\"C:\\\\Users\\\\Admin\\\\Desktop\\\\Python\\\\wf.xlsx\")"
   ]
  },
  {
   "cell_type": "code",
   "execution_count": null,
   "id": "physical-emphasis",
   "metadata": {},
   "outputs": [],
   "source": []
  }
 ],
 "metadata": {
  "kernelspec": {
   "display_name": "Python [conda env:datasc] *",
   "language": "python",
   "name": "conda-env-datasc-py"
  },
  "language_info": {
   "codemirror_mode": {
    "name": "ipython",
    "version": 3
   },
   "file_extension": ".py",
   "mimetype": "text/x-python",
   "name": "python",
   "nbconvert_exporter": "python",
   "pygments_lexer": "ipython3",
   "version": "3.8.5"
  }
 },
 "nbformat": 4,
 "nbformat_minor": 5
}
